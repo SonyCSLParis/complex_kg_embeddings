{
 "cells": [
  {
   "cell_type": "code",
   "execution_count": 6,
   "metadata": {},
   "outputs": [],
   "source": [
    "import pandas as pd\n",
    "import plotly.express as px"
   ]
  },
  {
   "cell_type": "code",
   "execution_count": 3,
   "metadata": {},
   "outputs": [
    {
     "data": {
      "text/html": [
       "<div>\n",
       "<style scoped>\n",
       "    .dataframe tbody tr th:only-of-type {\n",
       "        vertical-align: middle;\n",
       "    }\n",
       "\n",
       "    .dataframe tbody tr th {\n",
       "        vertical-align: top;\n",
       "    }\n",
       "\n",
       "    .dataframe thead th {\n",
       "        text-align: right;\n",
       "    }\n",
       "</style>\n",
       "<table border=\"1\" class=\"dataframe\">\n",
       "  <thead>\n",
       "    <tr style=\"text-align: right;\">\n",
       "      <th></th>\n",
       "      <th>frame_inst</th>\n",
       "      <th>frame</th>\n",
       "      <th>role</th>\n",
       "      <th>role_type</th>\n",
       "    </tr>\n",
       "  </thead>\n",
       "  <tbody>\n",
       "    <tr>\n",
       "      <th>0</th>\n",
       "      <td>http://example.com/Neolithic_Revolution_Abstra...</td>\n",
       "      <td>https://w3id.org/framester/framenet/abox/frame...</td>\n",
       "      <td>http://example.com/Neolithic_Revolution_Abstra...</td>\n",
       "      <td>https://w3id.org/framester/framenet/abox/gfe/Q...</td>\n",
       "    </tr>\n",
       "    <tr>\n",
       "      <th>1</th>\n",
       "      <td>http://example.com/Neolithic_Revolution_Abstra...</td>\n",
       "      <td>https://w3id.org/framester/framenet/abox/frame...</td>\n",
       "      <td>http://example.com/Neolithic_Revolution_Abstra...</td>\n",
       "      <td>https://w3id.org/framester/framenet/abox/gfe/A...</td>\n",
       "    </tr>\n",
       "    <tr>\n",
       "      <th>2</th>\n",
       "      <td>http://example.com/Neolithic_Revolution_Abstra...</td>\n",
       "      <td>https://w3id.org/framester/framenet/abox/frame...</td>\n",
       "      <td>http://example.com/Neolithic_Revolution_Abstra...</td>\n",
       "      <td>https://w3id.org/framester/framenet/abox/gfe/Time</td>\n",
       "    </tr>\n",
       "  </tbody>\n",
       "</table>\n",
       "</div>"
      ],
      "text/plain": [
       "                                          frame_inst  \\\n",
       "0  http://example.com/Neolithic_Revolution_Abstra...   \n",
       "1  http://example.com/Neolithic_Revolution_Abstra...   \n",
       "2  http://example.com/Neolithic_Revolution_Abstra...   \n",
       "\n",
       "                                               frame  \\\n",
       "0  https://w3id.org/framester/framenet/abox/frame...   \n",
       "1  https://w3id.org/framester/framenet/abox/frame...   \n",
       "2  https://w3id.org/framester/framenet/abox/frame...   \n",
       "\n",
       "                                                role  \\\n",
       "0  http://example.com/Neolithic_Revolution_Abstra...   \n",
       "1  http://example.com/Neolithic_Revolution_Abstra...   \n",
       "2  http://example.com/Neolithic_Revolution_Abstra...   \n",
       "\n",
       "                                           role_type  \n",
       "0  https://w3id.org/framester/framenet/abox/gfe/Q...  \n",
       "1  https://w3id.org/framester/framenet/abox/gfe/A...  \n",
       "2  https://w3id.org/framester/framenet/abox/gfe/Time  "
      ]
     },
     "execution_count": 3,
     "metadata": {},
     "output_type": "execute_result"
    }
   ],
   "source": [
    "df = pd.read_csv('frames.csv', index_col=0)\n",
    "df.head(3)"
   ]
  },
  {
   "cell_type": "code",
   "execution_count": 12,
   "metadata": {},
   "outputs": [
    {
     "data": {
      "text/html": [
       "<div>\n",
       "<style scoped>\n",
       "    .dataframe tbody tr th:only-of-type {\n",
       "        vertical-align: middle;\n",
       "    }\n",
       "\n",
       "    .dataframe tbody tr th {\n",
       "        vertical-align: top;\n",
       "    }\n",
       "\n",
       "    .dataframe thead th {\n",
       "        text-align: right;\n",
       "    }\n",
       "</style>\n",
       "<table border=\"1\" class=\"dataframe\">\n",
       "  <thead>\n",
       "    <tr style=\"text-align: right;\">\n",
       "      <th></th>\n",
       "      <th>frame_inst</th>\n",
       "    </tr>\n",
       "    <tr>\n",
       "      <th>frame</th>\n",
       "      <th></th>\n",
       "    </tr>\n",
       "  </thead>\n",
       "  <tbody>\n",
       "    <tr>\n",
       "      <th>https://w3id.org/framester/framenet/abox/frame/Abandonment</th>\n",
       "      <td>84</td>\n",
       "    </tr>\n",
       "    <tr>\n",
       "      <th>https://w3id.org/framester/framenet/abox/frame/Abounding_with</th>\n",
       "      <td>38</td>\n",
       "    </tr>\n",
       "    <tr>\n",
       "      <th>https://w3id.org/framester/framenet/abox/frame/Abundance</th>\n",
       "      <td>5</td>\n",
       "    </tr>\n",
       "  </tbody>\n",
       "</table>\n",
       "</div>"
      ],
      "text/plain": [
       "                                                    frame_inst\n",
       "frame                                                         \n",
       "https://w3id.org/framester/framenet/abox/frame/...          84\n",
       "https://w3id.org/framester/framenet/abox/frame/...          38\n",
       "https://w3id.org/framester/framenet/abox/frame/...           5"
      ]
     },
     "execution_count": 12,
     "metadata": {},
     "output_type": "execute_result"
    }
   ],
   "source": [
    "type_frame = df.groupby(\"frame\").agg({\"frame_inst\": \"nunique\"})\n",
    "type_frame.sort_values(\"frame_inst\", ascending=False).to_csv(\"frame_count.csv\")\n",
    "type_frame.head(3)"
   ]
  },
  {
   "cell_type": "code",
   "execution_count": 10,
   "metadata": {},
   "outputs": [
    {
     "data": {
      "application/vnd.plotly.v1+json": {
       "config": {
        "plotlyServerURL": "https://plot.ly"
       },
       "data": [
        {
         "alignmentgroup": "True",
         "bingroup": "x",
         "hovertemplate": "frame_inst=%{x}<br>count=%{y}<extra></extra>",
         "legendgroup": "",
         "marker": {
          "color": "#636efa",
          "pattern": {
           "shape": ""
          }
         },
         "name": "",
         "nbinsx": 50,
         "offsetgroup": "",
         "orientation": "v",
         "showlegend": false,
         "type": "histogram",
         "x": [
          84,
          38,
          5,
          27,
          161,
          134,
          19,
          2,
          25,
          8,
          2,
          102,
          294,
          37,
          29,
          3,
          37,
          456,
          82,
          1,
          4,
          33,
          23,
          141,
          1,
          244,
          11,
          13,
          1143,
          3441,
          2,
          81,
          17,
          18,
          144,
          9,
          119,
          9,
          23,
          21,
          129,
          2,
          4,
          4,
          28,
          315,
          113,
          4,
          21,
          148,
          823,
          2,
          125,
          3,
          23,
          126,
          27,
          512,
          46,
          681,
          584,
          3,
          94,
          32,
          33,
          12,
          693,
          14,
          81,
          210,
          5,
          3,
          27,
          1,
          124,
          128,
          427,
          1454,
          386,
          1,
          203,
          18,
          1,
          33,
          109,
          88,
          12,
          478,
          2,
          205,
          1,
          38,
          509,
          14,
          30,
          84,
          984,
          2209,
          77,
          100,
          10,
          19,
          4,
          6,
          81,
          4,
          84,
          4,
          1,
          3,
          6,
          1,
          2,
          160,
          14,
          283,
          2,
          6,
          2,
          11,
          7,
          173,
          231,
          131,
          1184,
          1,
          61,
          501,
          1689,
          52,
          257,
          12,
          7,
          1403,
          234,
          10,
          857,
          1698,
          285,
          12,
          208,
          69,
          7,
          136,
          130,
          1,
          232,
          1,
          105,
          8,
          18,
          222,
          2,
          49,
          5,
          137,
          2,
          19,
          44,
          108,
          1,
          10,
          97,
          14,
          1,
          10,
          49,
          1559,
          1,
          30,
          447,
          6,
          9,
          37,
          21,
          2,
          1,
          117,
          7,
          1,
          42,
          13,
          44,
          5,
          3,
          34,
          209,
          4,
          165,
          392,
          64,
          1,
          1,
          4,
          68,
          301,
          43,
          109,
          62,
          26,
          1,
          19,
          30,
          36,
          1,
          108,
          82,
          20,
          250,
          58,
          22,
          2,
          21,
          31,
          112,
          4,
          76,
          144,
          29,
          9,
          30,
          2,
          8,
          22,
          9,
          365,
          22,
          127,
          130,
          60,
          156,
          2,
          2,
          15,
          6,
          4,
          7,
          1,
          121,
          11,
          32,
          39,
          2,
          663,
          11,
          40,
          255,
          10,
          42,
          1,
          38,
          886,
          128,
          181,
          8,
          10,
          10,
          8,
          134,
          137,
          13,
          374,
          31,
          185,
          23,
          215,
          3,
          34,
          1,
          120,
          55,
          386,
          597,
          85,
          233,
          3,
          3,
          116,
          136,
          41,
          80,
          193,
          116,
          12,
          193,
          3,
          1,
          4,
          4,
          258,
          4,
          218,
          1,
          697,
          681,
          22,
          1,
          4,
          6,
          215,
          63,
          168,
          18,
          17,
          6,
          4,
          5,
          6,
          2,
          11,
          2,
          52,
          133,
          214,
          3,
          36,
          616,
          22,
          13,
          121,
          13,
          15,
          109,
          53,
          1,
          72,
          195,
          5,
          5,
          1072,
          203,
          51,
          40,
          1,
          100,
          66,
          5,
          82,
          20,
          5,
          49,
          30,
          5,
          2,
          3,
          7,
          332,
          134,
          1,
          26,
          34,
          3,
          391,
          27,
          2,
          377,
          28,
          13,
          33,
          143,
          479,
          139,
          29,
          80,
          11,
          457,
          7,
          3,
          6,
          84,
          753,
          4,
          29,
          2,
          3,
          1,
          5,
          38,
          13,
          400,
          1,
          1,
          57,
          397,
          16,
          12,
          54,
          8,
          7,
          5,
          153,
          10,
          3,
          32,
          23,
          6,
          13,
          21,
          195,
          21,
          8,
          2,
          1,
          1,
          30,
          44,
          18,
          59,
          7,
          1,
          27,
          3,
          1,
          2436,
          6,
          307,
          57,
          8,
          1450,
          43,
          22,
          7,
          70,
          59,
          17,
          1523,
          1464,
          3,
          254,
          299,
          1,
          42,
          29,
          1,
          14,
          66,
          4,
          9,
          18,
          26,
          138,
          16,
          167,
          1,
          8,
          777,
          1981,
          6,
          1132,
          1,
          14,
          149,
          12,
          1,
          125,
          228,
          4,
          5,
          77,
          5,
          9,
          11,
          765,
          1956,
          2,
          153,
          32,
          41,
          344,
          11,
          1,
          4,
          25,
          62,
          1,
          99,
          1,
          4,
          146,
          1,
          34,
          221,
          40,
          3,
          2723,
          1,
          10,
          4,
          2230,
          2,
          96,
          13,
          1,
          544,
          2,
          4,
          18,
          201,
          19,
          6,
          9,
          36,
          3,
          11,
          8,
          1,
          189,
          6,
          3,
          7,
          149,
          27,
          30,
          1039,
          306,
          18,
          2,
          146,
          6,
          18,
          2,
          5,
          10,
          17,
          169,
          1289,
          4,
          2,
          3,
          3191,
          16,
          5,
          3,
          19,
          33,
          171,
          83,
          2,
          16,
          165,
          4,
          1822,
          26,
          1,
          55,
          2,
          1,
          11,
          2,
          31,
          417,
          1,
          38,
          218,
          48,
          29,
          2,
          30,
          18,
          6,
          80,
          8,
          145,
          15,
          1956,
          717,
          1149,
          13,
          1,
          180,
          1,
          1293,
          9,
          1264,
          15,
          463,
          81,
          23,
          25,
          3,
          1,
          2,
          1505,
          5,
          152,
          134,
          2,
          2,
          201,
          214,
          3,
          445,
          54,
          10,
          167,
          11,
          35,
          40,
          635,
          26,
          11,
          1,
          110,
          1,
          4,
          50,
          20,
          5,
          429,
          1018,
          36,
          81,
          91,
          22,
          1,
          5,
          56,
          12,
          18,
          11,
          40,
          34,
          6,
          4,
          216,
          82,
          2,
          97,
          13,
          356,
          578,
          18,
          619,
          33,
          17,
          252,
          95,
          180,
          1,
          76,
          3,
          77,
          503,
          153,
          71,
          24,
          106,
          50,
          455,
          7,
          1847,
          33,
          126,
          9,
          194,
          197,
          26,
          59,
          27,
          2,
          1,
          54,
          11,
          29,
          17,
          1,
          19,
          60,
          56,
          250,
          28,
          3,
          24,
          1,
          39,
          409,
          53,
          21,
          77,
          1,
          114,
          219,
          605,
          4,
          1771,
          40,
          39,
          1,
          17,
          95,
          54,
          3,
          515,
          3,
          13,
          32,
          34,
          58,
          5,
          8,
          11,
          350,
          74,
          22,
          52,
          2,
          13,
          1049,
          58,
          47,
          120,
          6,
          69,
          4,
          52,
          41,
          53,
          2,
          29,
          10,
          34,
          104,
          521,
          6,
          17,
          1,
          1,
          4,
          7,
          23,
          150,
          56,
          40,
          81,
          30,
          125,
          97,
          17,
          76,
          447,
          37,
          7,
          1,
          4,
          21,
          7,
          36,
          22,
          121,
          151,
          486,
          236,
          174,
          3,
          1332,
          2,
          2,
          4,
          5,
          4,
          94,
          125,
          11,
          223,
          1,
          2,
          98,
          7,
          249,
          4,
          3,
          17,
          64,
          135,
          432,
          25,
          1187,
          38,
          51,
          7,
          45,
          40,
          29,
          275,
          7,
          61,
          3,
          133,
          4,
          211,
          345,
          41,
          7,
          3,
          232,
          47,
          32,
          48,
          4,
          9,
          111,
          13,
          333,
          17,
          303,
          93,
          8,
          760,
          40,
          25,
          36,
          1796,
          2,
          1136,
          3,
          35,
          41,
          651,
          652,
          8,
          1,
          58,
          6,
          1792,
          7,
          1,
          3,
          113,
          89,
          1,
          96,
          22,
          103,
          47,
          2,
          107,
          105,
          7,
          44,
          16,
          14,
          20,
          10,
          385,
          45,
          65,
          156,
          10,
          35,
          1,
          11,
          2,
          8,
          78,
          1040,
          1,
          258,
          7,
          57,
          43,
          24,
          2,
          62,
          1,
          2,
          6,
          7,
          3,
          2,
          5,
          74,
          161,
          41,
          74,
          15,
          122,
          1,
          1,
          5,
          47,
          1
         ],
         "xaxis": "x",
         "yaxis": "y"
        }
       ],
       "layout": {
        "barmode": "relative",
        "legend": {
         "tracegroupgap": 0
        },
        "template": {
         "data": {
          "bar": [
           {
            "error_x": {
             "color": "#2a3f5f"
            },
            "error_y": {
             "color": "#2a3f5f"
            },
            "marker": {
             "line": {
              "color": "#E5ECF6",
              "width": 0.5
             },
             "pattern": {
              "fillmode": "overlay",
              "size": 10,
              "solidity": 0.2
             }
            },
            "type": "bar"
           }
          ],
          "barpolar": [
           {
            "marker": {
             "line": {
              "color": "#E5ECF6",
              "width": 0.5
             },
             "pattern": {
              "fillmode": "overlay",
              "size": 10,
              "solidity": 0.2
             }
            },
            "type": "barpolar"
           }
          ],
          "carpet": [
           {
            "aaxis": {
             "endlinecolor": "#2a3f5f",
             "gridcolor": "white",
             "linecolor": "white",
             "minorgridcolor": "white",
             "startlinecolor": "#2a3f5f"
            },
            "baxis": {
             "endlinecolor": "#2a3f5f",
             "gridcolor": "white",
             "linecolor": "white",
             "minorgridcolor": "white",
             "startlinecolor": "#2a3f5f"
            },
            "type": "carpet"
           }
          ],
          "choropleth": [
           {
            "colorbar": {
             "outlinewidth": 0,
             "ticks": ""
            },
            "type": "choropleth"
           }
          ],
          "contour": [
           {
            "colorbar": {
             "outlinewidth": 0,
             "ticks": ""
            },
            "colorscale": [
             [
              0,
              "#0d0887"
             ],
             [
              0.1111111111111111,
              "#46039f"
             ],
             [
              0.2222222222222222,
              "#7201a8"
             ],
             [
              0.3333333333333333,
              "#9c179e"
             ],
             [
              0.4444444444444444,
              "#bd3786"
             ],
             [
              0.5555555555555556,
              "#d8576b"
             ],
             [
              0.6666666666666666,
              "#ed7953"
             ],
             [
              0.7777777777777778,
              "#fb9f3a"
             ],
             [
              0.8888888888888888,
              "#fdca26"
             ],
             [
              1,
              "#f0f921"
             ]
            ],
            "type": "contour"
           }
          ],
          "contourcarpet": [
           {
            "colorbar": {
             "outlinewidth": 0,
             "ticks": ""
            },
            "type": "contourcarpet"
           }
          ],
          "heatmap": [
           {
            "colorbar": {
             "outlinewidth": 0,
             "ticks": ""
            },
            "colorscale": [
             [
              0,
              "#0d0887"
             ],
             [
              0.1111111111111111,
              "#46039f"
             ],
             [
              0.2222222222222222,
              "#7201a8"
             ],
             [
              0.3333333333333333,
              "#9c179e"
             ],
             [
              0.4444444444444444,
              "#bd3786"
             ],
             [
              0.5555555555555556,
              "#d8576b"
             ],
             [
              0.6666666666666666,
              "#ed7953"
             ],
             [
              0.7777777777777778,
              "#fb9f3a"
             ],
             [
              0.8888888888888888,
              "#fdca26"
             ],
             [
              1,
              "#f0f921"
             ]
            ],
            "type": "heatmap"
           }
          ],
          "heatmapgl": [
           {
            "colorbar": {
             "outlinewidth": 0,
             "ticks": ""
            },
            "colorscale": [
             [
              0,
              "#0d0887"
             ],
             [
              0.1111111111111111,
              "#46039f"
             ],
             [
              0.2222222222222222,
              "#7201a8"
             ],
             [
              0.3333333333333333,
              "#9c179e"
             ],
             [
              0.4444444444444444,
              "#bd3786"
             ],
             [
              0.5555555555555556,
              "#d8576b"
             ],
             [
              0.6666666666666666,
              "#ed7953"
             ],
             [
              0.7777777777777778,
              "#fb9f3a"
             ],
             [
              0.8888888888888888,
              "#fdca26"
             ],
             [
              1,
              "#f0f921"
             ]
            ],
            "type": "heatmapgl"
           }
          ],
          "histogram": [
           {
            "marker": {
             "pattern": {
              "fillmode": "overlay",
              "size": 10,
              "solidity": 0.2
             }
            },
            "type": "histogram"
           }
          ],
          "histogram2d": [
           {
            "colorbar": {
             "outlinewidth": 0,
             "ticks": ""
            },
            "colorscale": [
             [
              0,
              "#0d0887"
             ],
             [
              0.1111111111111111,
              "#46039f"
             ],
             [
              0.2222222222222222,
              "#7201a8"
             ],
             [
              0.3333333333333333,
              "#9c179e"
             ],
             [
              0.4444444444444444,
              "#bd3786"
             ],
             [
              0.5555555555555556,
              "#d8576b"
             ],
             [
              0.6666666666666666,
              "#ed7953"
             ],
             [
              0.7777777777777778,
              "#fb9f3a"
             ],
             [
              0.8888888888888888,
              "#fdca26"
             ],
             [
              1,
              "#f0f921"
             ]
            ],
            "type": "histogram2d"
           }
          ],
          "histogram2dcontour": [
           {
            "colorbar": {
             "outlinewidth": 0,
             "ticks": ""
            },
            "colorscale": [
             [
              0,
              "#0d0887"
             ],
             [
              0.1111111111111111,
              "#46039f"
             ],
             [
              0.2222222222222222,
              "#7201a8"
             ],
             [
              0.3333333333333333,
              "#9c179e"
             ],
             [
              0.4444444444444444,
              "#bd3786"
             ],
             [
              0.5555555555555556,
              "#d8576b"
             ],
             [
              0.6666666666666666,
              "#ed7953"
             ],
             [
              0.7777777777777778,
              "#fb9f3a"
             ],
             [
              0.8888888888888888,
              "#fdca26"
             ],
             [
              1,
              "#f0f921"
             ]
            ],
            "type": "histogram2dcontour"
           }
          ],
          "mesh3d": [
           {
            "colorbar": {
             "outlinewidth": 0,
             "ticks": ""
            },
            "type": "mesh3d"
           }
          ],
          "parcoords": [
           {
            "line": {
             "colorbar": {
              "outlinewidth": 0,
              "ticks": ""
             }
            },
            "type": "parcoords"
           }
          ],
          "pie": [
           {
            "automargin": true,
            "type": "pie"
           }
          ],
          "scatter": [
           {
            "marker": {
             "colorbar": {
              "outlinewidth": 0,
              "ticks": ""
             }
            },
            "type": "scatter"
           }
          ],
          "scatter3d": [
           {
            "line": {
             "colorbar": {
              "outlinewidth": 0,
              "ticks": ""
             }
            },
            "marker": {
             "colorbar": {
              "outlinewidth": 0,
              "ticks": ""
             }
            },
            "type": "scatter3d"
           }
          ],
          "scattercarpet": [
           {
            "marker": {
             "colorbar": {
              "outlinewidth": 0,
              "ticks": ""
             }
            },
            "type": "scattercarpet"
           }
          ],
          "scattergeo": [
           {
            "marker": {
             "colorbar": {
              "outlinewidth": 0,
              "ticks": ""
             }
            },
            "type": "scattergeo"
           }
          ],
          "scattergl": [
           {
            "marker": {
             "colorbar": {
              "outlinewidth": 0,
              "ticks": ""
             }
            },
            "type": "scattergl"
           }
          ],
          "scattermapbox": [
           {
            "marker": {
             "colorbar": {
              "outlinewidth": 0,
              "ticks": ""
             }
            },
            "type": "scattermapbox"
           }
          ],
          "scatterpolar": [
           {
            "marker": {
             "colorbar": {
              "outlinewidth": 0,
              "ticks": ""
             }
            },
            "type": "scatterpolar"
           }
          ],
          "scatterpolargl": [
           {
            "marker": {
             "colorbar": {
              "outlinewidth": 0,
              "ticks": ""
             }
            },
            "type": "scatterpolargl"
           }
          ],
          "scatterternary": [
           {
            "marker": {
             "colorbar": {
              "outlinewidth": 0,
              "ticks": ""
             }
            },
            "type": "scatterternary"
           }
          ],
          "surface": [
           {
            "colorbar": {
             "outlinewidth": 0,
             "ticks": ""
            },
            "colorscale": [
             [
              0,
              "#0d0887"
             ],
             [
              0.1111111111111111,
              "#46039f"
             ],
             [
              0.2222222222222222,
              "#7201a8"
             ],
             [
              0.3333333333333333,
              "#9c179e"
             ],
             [
              0.4444444444444444,
              "#bd3786"
             ],
             [
              0.5555555555555556,
              "#d8576b"
             ],
             [
              0.6666666666666666,
              "#ed7953"
             ],
             [
              0.7777777777777778,
              "#fb9f3a"
             ],
             [
              0.8888888888888888,
              "#fdca26"
             ],
             [
              1,
              "#f0f921"
             ]
            ],
            "type": "surface"
           }
          ],
          "table": [
           {
            "cells": {
             "fill": {
              "color": "#EBF0F8"
             },
             "line": {
              "color": "white"
             }
            },
            "header": {
             "fill": {
              "color": "#C8D4E3"
             },
             "line": {
              "color": "white"
             }
            },
            "type": "table"
           }
          ]
         },
         "layout": {
          "annotationdefaults": {
           "arrowcolor": "#2a3f5f",
           "arrowhead": 0,
           "arrowwidth": 1
          },
          "autotypenumbers": "strict",
          "coloraxis": {
           "colorbar": {
            "outlinewidth": 0,
            "ticks": ""
           }
          },
          "colorscale": {
           "diverging": [
            [
             0,
             "#8e0152"
            ],
            [
             0.1,
             "#c51b7d"
            ],
            [
             0.2,
             "#de77ae"
            ],
            [
             0.3,
             "#f1b6da"
            ],
            [
             0.4,
             "#fde0ef"
            ],
            [
             0.5,
             "#f7f7f7"
            ],
            [
             0.6,
             "#e6f5d0"
            ],
            [
             0.7,
             "#b8e186"
            ],
            [
             0.8,
             "#7fbc41"
            ],
            [
             0.9,
             "#4d9221"
            ],
            [
             1,
             "#276419"
            ]
           ],
           "sequential": [
            [
             0,
             "#0d0887"
            ],
            [
             0.1111111111111111,
             "#46039f"
            ],
            [
             0.2222222222222222,
             "#7201a8"
            ],
            [
             0.3333333333333333,
             "#9c179e"
            ],
            [
             0.4444444444444444,
             "#bd3786"
            ],
            [
             0.5555555555555556,
             "#d8576b"
            ],
            [
             0.6666666666666666,
             "#ed7953"
            ],
            [
             0.7777777777777778,
             "#fb9f3a"
            ],
            [
             0.8888888888888888,
             "#fdca26"
            ],
            [
             1,
             "#f0f921"
            ]
           ],
           "sequentialminus": [
            [
             0,
             "#0d0887"
            ],
            [
             0.1111111111111111,
             "#46039f"
            ],
            [
             0.2222222222222222,
             "#7201a8"
            ],
            [
             0.3333333333333333,
             "#9c179e"
            ],
            [
             0.4444444444444444,
             "#bd3786"
            ],
            [
             0.5555555555555556,
             "#d8576b"
            ],
            [
             0.6666666666666666,
             "#ed7953"
            ],
            [
             0.7777777777777778,
             "#fb9f3a"
            ],
            [
             0.8888888888888888,
             "#fdca26"
            ],
            [
             1,
             "#f0f921"
            ]
           ]
          },
          "colorway": [
           "#636efa",
           "#EF553B",
           "#00cc96",
           "#ab63fa",
           "#FFA15A",
           "#19d3f3",
           "#FF6692",
           "#B6E880",
           "#FF97FF",
           "#FECB52"
          ],
          "font": {
           "color": "#2a3f5f"
          },
          "geo": {
           "bgcolor": "white",
           "lakecolor": "white",
           "landcolor": "#E5ECF6",
           "showlakes": true,
           "showland": true,
           "subunitcolor": "white"
          },
          "hoverlabel": {
           "align": "left"
          },
          "hovermode": "closest",
          "mapbox": {
           "style": "light"
          },
          "paper_bgcolor": "white",
          "plot_bgcolor": "#E5ECF6",
          "polar": {
           "angularaxis": {
            "gridcolor": "white",
            "linecolor": "white",
            "ticks": ""
           },
           "bgcolor": "#E5ECF6",
           "radialaxis": {
            "gridcolor": "white",
            "linecolor": "white",
            "ticks": ""
           }
          },
          "scene": {
           "xaxis": {
            "backgroundcolor": "#E5ECF6",
            "gridcolor": "white",
            "gridwidth": 2,
            "linecolor": "white",
            "showbackground": true,
            "ticks": "",
            "zerolinecolor": "white"
           },
           "yaxis": {
            "backgroundcolor": "#E5ECF6",
            "gridcolor": "white",
            "gridwidth": 2,
            "linecolor": "white",
            "showbackground": true,
            "ticks": "",
            "zerolinecolor": "white"
           },
           "zaxis": {
            "backgroundcolor": "#E5ECF6",
            "gridcolor": "white",
            "gridwidth": 2,
            "linecolor": "white",
            "showbackground": true,
            "ticks": "",
            "zerolinecolor": "white"
           }
          },
          "shapedefaults": {
           "line": {
            "color": "#2a3f5f"
           }
          },
          "ternary": {
           "aaxis": {
            "gridcolor": "white",
            "linecolor": "white",
            "ticks": ""
           },
           "baxis": {
            "gridcolor": "white",
            "linecolor": "white",
            "ticks": ""
           },
           "bgcolor": "#E5ECF6",
           "caxis": {
            "gridcolor": "white",
            "linecolor": "white",
            "ticks": ""
           }
          },
          "title": {
           "x": 0.05
          },
          "xaxis": {
           "automargin": true,
           "gridcolor": "white",
           "linecolor": "white",
           "ticks": "",
           "title": {
            "standoff": 15
           },
           "zerolinecolor": "white",
           "zerolinewidth": 2
          },
          "yaxis": {
           "automargin": true,
           "gridcolor": "white",
           "linecolor": "white",
           "ticks": "",
           "title": {
            "standoff": 15
           },
           "zerolinecolor": "white",
           "zerolinewidth": 2
          }
         }
        },
        "title": {
         "text": "Histogram of frame_inst Values"
        },
        "xaxis": {
         "anchor": "y",
         "domain": [
          0,
          1
         ],
         "title": {
          "text": "Number of Unique Frame Instances"
         }
        },
        "yaxis": {
         "anchor": "x",
         "domain": [
          0,
          1
         ],
         "title": {
          "text": "Count"
         }
        }
       }
      },
      "text/html": [
       "<div>                            <div id=\"62a9101b-fc64-4762-a29a-9cf4611eb5b2\" class=\"plotly-graph-div\" style=\"height:525px; width:100%;\"></div>            <script type=\"text/javascript\">                require([\"plotly\"], function(Plotly) {                    window.PLOTLYENV=window.PLOTLYENV || {};                                    if (document.getElementById(\"62a9101b-fc64-4762-a29a-9cf4611eb5b2\")) {                    Plotly.newPlot(                        \"62a9101b-fc64-4762-a29a-9cf4611eb5b2\",                        [{\"alignmentgroup\":\"True\",\"bingroup\":\"x\",\"hovertemplate\":\"frame_inst=%{x}<br>count=%{y}<extra></extra>\",\"legendgroup\":\"\",\"marker\":{\"color\":\"#636efa\",\"pattern\":{\"shape\":\"\"}},\"name\":\"\",\"nbinsx\":50,\"offsetgroup\":\"\",\"orientation\":\"v\",\"showlegend\":false,\"x\":[84,38,5,27,161,134,19,2,25,8,2,102,294,37,29,3,37,456,82,1,4,33,23,141,1,244,11,13,1143,3441,2,81,17,18,144,9,119,9,23,21,129,2,4,4,28,315,113,4,21,148,823,2,125,3,23,126,27,512,46,681,584,3,94,32,33,12,693,14,81,210,5,3,27,1,124,128,427,1454,386,1,203,18,1,33,109,88,12,478,2,205,1,38,509,14,30,84,984,2209,77,100,10,19,4,6,81,4,84,4,1,3,6,1,2,160,14,283,2,6,2,11,7,173,231,131,1184,1,61,501,1689,52,257,12,7,1403,234,10,857,1698,285,12,208,69,7,136,130,1,232,1,105,8,18,222,2,49,5,137,2,19,44,108,1,10,97,14,1,10,49,1559,1,30,447,6,9,37,21,2,1,117,7,1,42,13,44,5,3,34,209,4,165,392,64,1,1,4,68,301,43,109,62,26,1,19,30,36,1,108,82,20,250,58,22,2,21,31,112,4,76,144,29,9,30,2,8,22,9,365,22,127,130,60,156,2,2,15,6,4,7,1,121,11,32,39,2,663,11,40,255,10,42,1,38,886,128,181,8,10,10,8,134,137,13,374,31,185,23,215,3,34,1,120,55,386,597,85,233,3,3,116,136,41,80,193,116,12,193,3,1,4,4,258,4,218,1,697,681,22,1,4,6,215,63,168,18,17,6,4,5,6,2,11,2,52,133,214,3,36,616,22,13,121,13,15,109,53,1,72,195,5,5,1072,203,51,40,1,100,66,5,82,20,5,49,30,5,2,3,7,332,134,1,26,34,3,391,27,2,377,28,13,33,143,479,139,29,80,11,457,7,3,6,84,753,4,29,2,3,1,5,38,13,400,1,1,57,397,16,12,54,8,7,5,153,10,3,32,23,6,13,21,195,21,8,2,1,1,30,44,18,59,7,1,27,3,1,2436,6,307,57,8,1450,43,22,7,70,59,17,1523,1464,3,254,299,1,42,29,1,14,66,4,9,18,26,138,16,167,1,8,777,1981,6,1132,1,14,149,12,1,125,228,4,5,77,5,9,11,765,1956,2,153,32,41,344,11,1,4,25,62,1,99,1,4,146,1,34,221,40,3,2723,1,10,4,2230,2,96,13,1,544,2,4,18,201,19,6,9,36,3,11,8,1,189,6,3,7,149,27,30,1039,306,18,2,146,6,18,2,5,10,17,169,1289,4,2,3,3191,16,5,3,19,33,171,83,2,16,165,4,1822,26,1,55,2,1,11,2,31,417,1,38,218,48,29,2,30,18,6,80,8,145,15,1956,717,1149,13,1,180,1,1293,9,1264,15,463,81,23,25,3,1,2,1505,5,152,134,2,2,201,214,3,445,54,10,167,11,35,40,635,26,11,1,110,1,4,50,20,5,429,1018,36,81,91,22,1,5,56,12,18,11,40,34,6,4,216,82,2,97,13,356,578,18,619,33,17,252,95,180,1,76,3,77,503,153,71,24,106,50,455,7,1847,33,126,9,194,197,26,59,27,2,1,54,11,29,17,1,19,60,56,250,28,3,24,1,39,409,53,21,77,1,114,219,605,4,1771,40,39,1,17,95,54,3,515,3,13,32,34,58,5,8,11,350,74,22,52,2,13,1049,58,47,120,6,69,4,52,41,53,2,29,10,34,104,521,6,17,1,1,4,7,23,150,56,40,81,30,125,97,17,76,447,37,7,1,4,21,7,36,22,121,151,486,236,174,3,1332,2,2,4,5,4,94,125,11,223,1,2,98,7,249,4,3,17,64,135,432,25,1187,38,51,7,45,40,29,275,7,61,3,133,4,211,345,41,7,3,232,47,32,48,4,9,111,13,333,17,303,93,8,760,40,25,36,1796,2,1136,3,35,41,651,652,8,1,58,6,1792,7,1,3,113,89,1,96,22,103,47,2,107,105,7,44,16,14,20,10,385,45,65,156,10,35,1,11,2,8,78,1040,1,258,7,57,43,24,2,62,1,2,6,7,3,2,5,74,161,41,74,15,122,1,1,5,47,1],\"xaxis\":\"x\",\"yaxis\":\"y\",\"type\":\"histogram\"}],                        {\"template\":{\"data\":{\"bar\":[{\"error_x\":{\"color\":\"#2a3f5f\"},\"error_y\":{\"color\":\"#2a3f5f\"},\"marker\":{\"line\":{\"color\":\"#E5ECF6\",\"width\":0.5},\"pattern\":{\"fillmode\":\"overlay\",\"size\":10,\"solidity\":0.2}},\"type\":\"bar\"}],\"barpolar\":[{\"marker\":{\"line\":{\"color\":\"#E5ECF6\",\"width\":0.5},\"pattern\":{\"fillmode\":\"overlay\",\"size\":10,\"solidity\":0.2}},\"type\":\"barpolar\"}],\"carpet\":[{\"aaxis\":{\"endlinecolor\":\"#2a3f5f\",\"gridcolor\":\"white\",\"linecolor\":\"white\",\"minorgridcolor\":\"white\",\"startlinecolor\":\"#2a3f5f\"},\"baxis\":{\"endlinecolor\":\"#2a3f5f\",\"gridcolor\":\"white\",\"linecolor\":\"white\",\"minorgridcolor\":\"white\",\"startlinecolor\":\"#2a3f5f\"},\"type\":\"carpet\"}],\"choropleth\":[{\"colorbar\":{\"outlinewidth\":0,\"ticks\":\"\"},\"type\":\"choropleth\"}],\"contour\":[{\"colorbar\":{\"outlinewidth\":0,\"ticks\":\"\"},\"colorscale\":[[0.0,\"#0d0887\"],[0.1111111111111111,\"#46039f\"],[0.2222222222222222,\"#7201a8\"],[0.3333333333333333,\"#9c179e\"],[0.4444444444444444,\"#bd3786\"],[0.5555555555555556,\"#d8576b\"],[0.6666666666666666,\"#ed7953\"],[0.7777777777777778,\"#fb9f3a\"],[0.8888888888888888,\"#fdca26\"],[1.0,\"#f0f921\"]],\"type\":\"contour\"}],\"contourcarpet\":[{\"colorbar\":{\"outlinewidth\":0,\"ticks\":\"\"},\"type\":\"contourcarpet\"}],\"heatmap\":[{\"colorbar\":{\"outlinewidth\":0,\"ticks\":\"\"},\"colorscale\":[[0.0,\"#0d0887\"],[0.1111111111111111,\"#46039f\"],[0.2222222222222222,\"#7201a8\"],[0.3333333333333333,\"#9c179e\"],[0.4444444444444444,\"#bd3786\"],[0.5555555555555556,\"#d8576b\"],[0.6666666666666666,\"#ed7953\"],[0.7777777777777778,\"#fb9f3a\"],[0.8888888888888888,\"#fdca26\"],[1.0,\"#f0f921\"]],\"type\":\"heatmap\"}],\"heatmapgl\":[{\"colorbar\":{\"outlinewidth\":0,\"ticks\":\"\"},\"colorscale\":[[0.0,\"#0d0887\"],[0.1111111111111111,\"#46039f\"],[0.2222222222222222,\"#7201a8\"],[0.3333333333333333,\"#9c179e\"],[0.4444444444444444,\"#bd3786\"],[0.5555555555555556,\"#d8576b\"],[0.6666666666666666,\"#ed7953\"],[0.7777777777777778,\"#fb9f3a\"],[0.8888888888888888,\"#fdca26\"],[1.0,\"#f0f921\"]],\"type\":\"heatmapgl\"}],\"histogram\":[{\"marker\":{\"pattern\":{\"fillmode\":\"overlay\",\"size\":10,\"solidity\":0.2}},\"type\":\"histogram\"}],\"histogram2d\":[{\"colorbar\":{\"outlinewidth\":0,\"ticks\":\"\"},\"colorscale\":[[0.0,\"#0d0887\"],[0.1111111111111111,\"#46039f\"],[0.2222222222222222,\"#7201a8\"],[0.3333333333333333,\"#9c179e\"],[0.4444444444444444,\"#bd3786\"],[0.5555555555555556,\"#d8576b\"],[0.6666666666666666,\"#ed7953\"],[0.7777777777777778,\"#fb9f3a\"],[0.8888888888888888,\"#fdca26\"],[1.0,\"#f0f921\"]],\"type\":\"histogram2d\"}],\"histogram2dcontour\":[{\"colorbar\":{\"outlinewidth\":0,\"ticks\":\"\"},\"colorscale\":[[0.0,\"#0d0887\"],[0.1111111111111111,\"#46039f\"],[0.2222222222222222,\"#7201a8\"],[0.3333333333333333,\"#9c179e\"],[0.4444444444444444,\"#bd3786\"],[0.5555555555555556,\"#d8576b\"],[0.6666666666666666,\"#ed7953\"],[0.7777777777777778,\"#fb9f3a\"],[0.8888888888888888,\"#fdca26\"],[1.0,\"#f0f921\"]],\"type\":\"histogram2dcontour\"}],\"mesh3d\":[{\"colorbar\":{\"outlinewidth\":0,\"ticks\":\"\"},\"type\":\"mesh3d\"}],\"parcoords\":[{\"line\":{\"colorbar\":{\"outlinewidth\":0,\"ticks\":\"\"}},\"type\":\"parcoords\"}],\"pie\":[{\"automargin\":true,\"type\":\"pie\"}],\"scatter\":[{\"marker\":{\"colorbar\":{\"outlinewidth\":0,\"ticks\":\"\"}},\"type\":\"scatter\"}],\"scatter3d\":[{\"line\":{\"colorbar\":{\"outlinewidth\":0,\"ticks\":\"\"}},\"marker\":{\"colorbar\":{\"outlinewidth\":0,\"ticks\":\"\"}},\"type\":\"scatter3d\"}],\"scattercarpet\":[{\"marker\":{\"colorbar\":{\"outlinewidth\":0,\"ticks\":\"\"}},\"type\":\"scattercarpet\"}],\"scattergeo\":[{\"marker\":{\"colorbar\":{\"outlinewidth\":0,\"ticks\":\"\"}},\"type\":\"scattergeo\"}],\"scattergl\":[{\"marker\":{\"colorbar\":{\"outlinewidth\":0,\"ticks\":\"\"}},\"type\":\"scattergl\"}],\"scattermapbox\":[{\"marker\":{\"colorbar\":{\"outlinewidth\":0,\"ticks\":\"\"}},\"type\":\"scattermapbox\"}],\"scatterpolar\":[{\"marker\":{\"colorbar\":{\"outlinewidth\":0,\"ticks\":\"\"}},\"type\":\"scatterpolar\"}],\"scatterpolargl\":[{\"marker\":{\"colorbar\":{\"outlinewidth\":0,\"ticks\":\"\"}},\"type\":\"scatterpolargl\"}],\"scatterternary\":[{\"marker\":{\"colorbar\":{\"outlinewidth\":0,\"ticks\":\"\"}},\"type\":\"scatterternary\"}],\"surface\":[{\"colorbar\":{\"outlinewidth\":0,\"ticks\":\"\"},\"colorscale\":[[0.0,\"#0d0887\"],[0.1111111111111111,\"#46039f\"],[0.2222222222222222,\"#7201a8\"],[0.3333333333333333,\"#9c179e\"],[0.4444444444444444,\"#bd3786\"],[0.5555555555555556,\"#d8576b\"],[0.6666666666666666,\"#ed7953\"],[0.7777777777777778,\"#fb9f3a\"],[0.8888888888888888,\"#fdca26\"],[1.0,\"#f0f921\"]],\"type\":\"surface\"}],\"table\":[{\"cells\":{\"fill\":{\"color\":\"#EBF0F8\"},\"line\":{\"color\":\"white\"}},\"header\":{\"fill\":{\"color\":\"#C8D4E3\"},\"line\":{\"color\":\"white\"}},\"type\":\"table\"}]},\"layout\":{\"annotationdefaults\":{\"arrowcolor\":\"#2a3f5f\",\"arrowhead\":0,\"arrowwidth\":1},\"autotypenumbers\":\"strict\",\"coloraxis\":{\"colorbar\":{\"outlinewidth\":0,\"ticks\":\"\"}},\"colorscale\":{\"diverging\":[[0,\"#8e0152\"],[0.1,\"#c51b7d\"],[0.2,\"#de77ae\"],[0.3,\"#f1b6da\"],[0.4,\"#fde0ef\"],[0.5,\"#f7f7f7\"],[0.6,\"#e6f5d0\"],[0.7,\"#b8e186\"],[0.8,\"#7fbc41\"],[0.9,\"#4d9221\"],[1,\"#276419\"]],\"sequential\":[[0.0,\"#0d0887\"],[0.1111111111111111,\"#46039f\"],[0.2222222222222222,\"#7201a8\"],[0.3333333333333333,\"#9c179e\"],[0.4444444444444444,\"#bd3786\"],[0.5555555555555556,\"#d8576b\"],[0.6666666666666666,\"#ed7953\"],[0.7777777777777778,\"#fb9f3a\"],[0.8888888888888888,\"#fdca26\"],[1.0,\"#f0f921\"]],\"sequentialminus\":[[0.0,\"#0d0887\"],[0.1111111111111111,\"#46039f\"],[0.2222222222222222,\"#7201a8\"],[0.3333333333333333,\"#9c179e\"],[0.4444444444444444,\"#bd3786\"],[0.5555555555555556,\"#d8576b\"],[0.6666666666666666,\"#ed7953\"],[0.7777777777777778,\"#fb9f3a\"],[0.8888888888888888,\"#fdca26\"],[1.0,\"#f0f921\"]]},\"colorway\":[\"#636efa\",\"#EF553B\",\"#00cc96\",\"#ab63fa\",\"#FFA15A\",\"#19d3f3\",\"#FF6692\",\"#B6E880\",\"#FF97FF\",\"#FECB52\"],\"font\":{\"color\":\"#2a3f5f\"},\"geo\":{\"bgcolor\":\"white\",\"lakecolor\":\"white\",\"landcolor\":\"#E5ECF6\",\"showlakes\":true,\"showland\":true,\"subunitcolor\":\"white\"},\"hoverlabel\":{\"align\":\"left\"},\"hovermode\":\"closest\",\"mapbox\":{\"style\":\"light\"},\"paper_bgcolor\":\"white\",\"plot_bgcolor\":\"#E5ECF6\",\"polar\":{\"angularaxis\":{\"gridcolor\":\"white\",\"linecolor\":\"white\",\"ticks\":\"\"},\"bgcolor\":\"#E5ECF6\",\"radialaxis\":{\"gridcolor\":\"white\",\"linecolor\":\"white\",\"ticks\":\"\"}},\"scene\":{\"xaxis\":{\"backgroundcolor\":\"#E5ECF6\",\"gridcolor\":\"white\",\"gridwidth\":2,\"linecolor\":\"white\",\"showbackground\":true,\"ticks\":\"\",\"zerolinecolor\":\"white\"},\"yaxis\":{\"backgroundcolor\":\"#E5ECF6\",\"gridcolor\":\"white\",\"gridwidth\":2,\"linecolor\":\"white\",\"showbackground\":true,\"ticks\":\"\",\"zerolinecolor\":\"white\"},\"zaxis\":{\"backgroundcolor\":\"#E5ECF6\",\"gridcolor\":\"white\",\"gridwidth\":2,\"linecolor\":\"white\",\"showbackground\":true,\"ticks\":\"\",\"zerolinecolor\":\"white\"}},\"shapedefaults\":{\"line\":{\"color\":\"#2a3f5f\"}},\"ternary\":{\"aaxis\":{\"gridcolor\":\"white\",\"linecolor\":\"white\",\"ticks\":\"\"},\"baxis\":{\"gridcolor\":\"white\",\"linecolor\":\"white\",\"ticks\":\"\"},\"bgcolor\":\"#E5ECF6\",\"caxis\":{\"gridcolor\":\"white\",\"linecolor\":\"white\",\"ticks\":\"\"}},\"title\":{\"x\":0.05},\"xaxis\":{\"automargin\":true,\"gridcolor\":\"white\",\"linecolor\":\"white\",\"ticks\":\"\",\"title\":{\"standoff\":15},\"zerolinecolor\":\"white\",\"zerolinewidth\":2},\"yaxis\":{\"automargin\":true,\"gridcolor\":\"white\",\"linecolor\":\"white\",\"ticks\":\"\",\"title\":{\"standoff\":15},\"zerolinecolor\":\"white\",\"zerolinewidth\":2}}},\"xaxis\":{\"anchor\":\"y\",\"domain\":[0.0,1.0],\"title\":{\"text\":\"Number of Unique Frame Instances\"}},\"yaxis\":{\"anchor\":\"x\",\"domain\":[0.0,1.0],\"title\":{\"text\":\"Count\"}},\"legend\":{\"tracegroupgap\":0},\"title\":{\"text\":\"Histogram of frame_inst Values\"},\"barmode\":\"relative\"},                        {\"responsive\": true}                    ).then(function(){\n",
       "                            \n",
       "var gd = document.getElementById('62a9101b-fc64-4762-a29a-9cf4611eb5b2');\n",
       "var x = new MutationObserver(function (mutations, observer) {{\n",
       "        var display = window.getComputedStyle(gd).display;\n",
       "        if (!display || display === 'none') {{\n",
       "            console.log([gd, 'removed!']);\n",
       "            Plotly.purge(gd);\n",
       "            observer.disconnect();\n",
       "        }}\n",
       "}});\n",
       "\n",
       "// Listen for the removal of the full notebook cells\n",
       "var notebookContainer = gd.closest('#notebook-container');\n",
       "if (notebookContainer) {{\n",
       "    x.observe(notebookContainer, {childList: true});\n",
       "}}\n",
       "\n",
       "// Listen for the clearing of the current output cell\n",
       "var outputEl = gd.closest('.output');\n",
       "if (outputEl) {{\n",
       "    x.observe(outputEl, {childList: true});\n",
       "}}\n",
       "\n",
       "                        })                };                });            </script>        </div>"
      ]
     },
     "metadata": {},
     "output_type": "display_data"
    }
   ],
   "source": [
    "import plotly.express as px\n",
    "\n",
    "fig = px.histogram(type_frame[type_frame.frame_inst<5000], x='frame_inst', nbins=50, title='Histogram of frame_inst Values')\n",
    "fig.update_layout(xaxis_title='Number of Unique Frame Instances', yaxis_title='Count')\n",
    "fig.show()"
   ]
  }
 ],
 "metadata": {
  "kernelspec": {
   "display_name": "graph-search-framework",
   "language": "python",
   "name": "python3"
  },
  "language_info": {
   "codemirror_mode": {
    "name": "ipython",
    "version": 3
   },
   "file_extension": ".py",
   "mimetype": "text/x-python",
   "name": "python",
   "nbconvert_exporter": "python",
   "pygments_lexer": "ipython3",
   "version": "3.9.7"
  }
 },
 "nbformat": 4,
 "nbformat_minor": 2
}
