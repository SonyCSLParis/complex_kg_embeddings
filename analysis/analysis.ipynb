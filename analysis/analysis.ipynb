{
 "cells": [
  {
   "cell_type": "code",
   "execution_count": null,
   "id": "bc8dee6a",
   "metadata": {},
   "outputs": [],
   "source": [
    "import os\n",
    "import random\n",
    "import pandas as pd\n",
    "from scipy import stats\n",
    "from statsmodels.stats import multitest"
   ]
  },
  {
   "cell_type": "code",
   "execution_count": null,
   "id": "7b9ec6e8",
   "metadata": {},
   "outputs": [],
   "source": [
    "METRICS = [\"MRR\", \"H@1\", \"H@3\", \"H@10\"]\n",
    "ETA = [\"prop\", \"subevent\", \"role\", \"causation\"]\n",
    "COLUMNS = ETA + [\"syntax\"] + METRICS\n",
    "\n",
    "data = []\n",
    "for method in [\"ultra\", \"simkgc\", \"ilp\"]:\n",
    "    df = pd.read_csv(f\"../stats/syntax_{method}.csv\", index_col=0)[COLUMNS]\n",
    "    df[\"method\"] = method\n",
    "    data.append(df)\n",
    "df = pd.concat(data)\n",
    "\n",
    "print(f\"{df.syntax.unique().shape[0]} syntaxes: {df.syntax.unique()}\")\n",
    "random.seed(23)\n",
    "df.sample(5)"
   ]
  },
  {
   "cell_type": "code",
   "execution_count": null,
   "id": "604c8e6c",
   "metadata": {},
   "outputs": [],
   "source": [
    "agg ={x: \"mean\" for x in METRICS}\n",
    "agg.update({\"prop\": \"count\"})\n",
    "df.groupby(\"syntax\").agg(agg)"
   ]
  },
  {
   "cell_type": "code",
   "execution_count": null,
   "id": "d0f044b1",
   "metadata": {},
   "outputs": [],
   "source": [
    "ranks = df.groupby(ETA+[\"syntax\", \"method\"])[\"MRR\"].rank(method='max', ascending=False)\n",
    "df[\"rank\"] = ranks\n",
    "df[df[\"rank\"]==1][ETA +[\"syntax\", \"method\"] + METRICS].groupby(\"syntax\").agg(agg)"
   ]
  },
  {
   "cell_type": "code",
   "execution_count": null,
   "id": "55e13746",
   "metadata": {},
   "outputs": [],
   "source": [
    "df[df[\"rank\"]==1][ETA +[\"syntax\", \"method\"] + METRICS].groupby(\"syntax\").agg(agg).reset_index().to_csv(\"../stats/syntax_mean.csv\")"
   ]
  },
  {
   "cell_type": "code",
   "execution_count": null,
   "id": "023918a0",
   "metadata": {},
   "outputs": [],
   "source": [
    "for metric in METRICS:\n",
    "    print(f\"--- {metric} ---\")\n",
    "    print(stats.kruskal(\n",
    "        df[(df[\"rank\"]==1) & (df.syntax == \"hyper_relational_rdf_star\")][metric].values,\n",
    "        df[(df[\"rank\"]==1) & (df.syntax == \"simple_rdf_prop\")][metric].values,\n",
    "        df[(df[\"rank\"]==1) & (df.syntax == \"simple_rdf_reification\")][metric].values,\n",
    "        df[(df[\"rank\"]==1) & (df.syntax == \"simple_rdf_sp\")][metric].values,\n",
    "    ))\n",
    "    print(\"--- ---\")"
   ]
  },
  {
   "cell_type": "code",
   "execution_count": null,
   "id": "1a0da44d",
   "metadata": {},
   "outputs": [],
   "source": [
    "metric = \"H@1\"\n",
    "syntaxes = df.syntax.unique().tolist()\n",
    "pvals = []\n",
    "for i, syntax1 in enumerate(syntaxes):\n",
    "    for j in range(i+1, len(syntaxes)):\n",
    "        syntax2 = syntaxes[j]\n",
    "        print(f\"{syntax1} vs {syntax2}\")\n",
    "        res = stats.mannwhitneyu(\n",
    "            df[(df[\"rank\"]==1) & (df.syntax == syntax1)][metric].values,\n",
    "            df[(df[\"rank\"]==1) & (df.syntax == syntax2)][metric].values,\n",
    "            method=\"asymptotic\",\n",
    "        )\n",
    "        print(res)\n",
    "        pvals.append(res.pvalue)\n",
    "        print(\"==========================\")"
   ]
  },
  {
   "cell_type": "code",
   "execution_count": null,
   "id": "6193d1e3",
   "metadata": {},
   "outputs": [],
   "source": [
    "hb_correction = multitest.multipletests(pvals, method=\"holm\")\n",
    "hb_correction"
   ]
  },
  {
   "cell_type": "code",
   "execution_count": null,
   "id": "99a203c3",
   "metadata": {},
   "outputs": [],
   "source": []
  }
 ],
 "metadata": {
  "kernelspec": {
   "display_name": "complex_kg_embeddings",
   "language": "python",
   "name": "python3"
  },
  "language_info": {
   "codemirror_mode": {
    "name": "ipython",
    "version": 3
   },
   "file_extension": ".py",
   "mimetype": "text/x-python",
   "name": "python",
   "nbconvert_exporter": "python",
   "pygments_lexer": "ipython3",
   "version": "3.9.5"
  }
 },
 "nbformat": 4,
 "nbformat_minor": 5
}
